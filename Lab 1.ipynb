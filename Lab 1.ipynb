{
  "nbformat": 4,
  "nbformat_minor": 0,
  "metadata": {
    "colab": {
      "name": "Untitled0.ipynb",
      "provenance": [],
      "collapsed_sections": [],
      "authorship_tag": "ABX9TyMXPjLfiLIK9KOHsk8PxDwd",
      "include_colab_link": true
    },
    "kernelspec": {
      "name": "python3",
      "display_name": "Python 3"
    }
  },
  "cells": [
    {
      "cell_type": "markdown",
      "metadata": {
        "id": "view-in-github",
        "colab_type": "text"
      },
      "source": [
        "<a href=\"https://colab.research.google.com/github/otkirjon/Labs-Algoritms/blob/master/Lab%201.ipynb\" target=\"_parent\"><img src=\"https://colab.research.google.com/assets/colab-badge.svg\" alt=\"Open In Colab\"/></a>"
      ]
    },
    {
      "cell_type": "code",
      "metadata": {
        "id": "mRHl_PbISFNz",
        "colab_type": "code",
        "colab": {}
      },
      "source": [
        "import math\n",
        "\n",
        "    "
      ],
      "execution_count": 0,
      "outputs": []
    },
    {
      "cell_type": "code",
      "metadata": {
        "id": "joTie1ejVys-",
        "colab_type": "code",
        "colab": {
          "base_uri": "https://localhost:8080/",
          "height": 68
        },
        "outputId": "2dae57cc-9980-4231-ccba-51adc2913b3c"
      },
      "source": [
        "a=float(input(\"Введите a \"))\n",
        "z1=(math.cos(a)+math.sin(a))/(math.cos(a)-math.sin(a))\n",
        "z2=math.tan(a*2)+math.sin(a * 2)\n",
        "print(z1)\n",
        "print(z2)"
      ],
      "execution_count": 16,
      "outputs": [
        {
          "output_type": "stream",
          "text": [
            "Введите a 0.2\n",
            "1.5084976471214002\n",
            "0.8122115610468124\n"
          ],
          "name": "stdout"
        }
      ]
    }
  ]
}